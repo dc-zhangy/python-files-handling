{
 "cells": [
  {
   "cell_type": "markdown",
   "metadata": {},
   "source": [
    "# 读写模式\n",
    "模式|可做操作|若文件不存在|是否覆盖\n",
    ":-:|:-:|:-:|:-:|\n",
    "r|\t只能读\t|报错\t|-\n",
    "r+|\t可读可写|\t报错\t|是\n",
    "w\t|只能写|\t创建\t|是\n",
    "w+　\t|可读可写|\t创建|是\n",
    "a　　|\t只能写|\t创建\t|否，追加写\n",
    "a+\t|可读可写|\t创建\t|否，追加写\n",
    "\n"
   ]
  },
  {
   "cell_type": "markdown",
   "metadata": {},
   "source": [
    "# 写入文件"
   ]
  },
  {
   "cell_type": "code",
   "execution_count": 18,
   "metadata": {},
   "outputs": [],
   "source": [
    "alist=[['name','gender','age'],['Mark','male','24'],['adam','male','22'],['june','male','22']]\n",
    "with open('test.txt','a+',encoding='utf-8') as file:\n",
    "    for idx in alist:\n",
    "       file.write((' ').join(idx))\n",
    "       file.write('\\n')"
   ]
  },
  {
   "cell_type": "markdown",
   "metadata": {},
   "source": [
    "# 读取文件"
   ]
  },
  {
   "cell_type": "code",
   "execution_count": 19,
   "metadata": {},
   "outputs": [
    {
     "name": "stdout",
     "output_type": "stream",
     "text": [
      "name gender age\n",
      "Mark male 24\n",
      "adam male 22\n",
      "june male 22\n",
      "rose female 24\n",
      "peter male 23\n",
      "rose female 24\n",
      "peter male 23\n",
      "name gender age\n",
      "Mark male 24\n",
      "adam male 22\n",
      "june male 22\n",
      "\n",
      "['name gender age\\n', 'Mark male 24\\n', 'adam male 22\\n', 'june male 22\\n', 'rose female 24\\n', 'peter male 23\\n', 'rose female 24\\n', 'peter male 23\\n', 'name gender age\\n', 'Mark male 24\\n', 'adam male 22\\n', 'june male 22\\n']\n"
     ]
    }
   ],
   "source": [
    "with open('test.txt','r',encoding='utf-8') as file:\n",
    "   a=file.read()#返回所有内容形成的字符串\n",
    "\n",
    "with open('test.txt','r',encoding='utf-8') as file:\n",
    "   b=file.readlines()#按行分开返回一个列表\n",
    "print(a)\n",
    "print(b)"
   ]
  },
  {
   "cell_type": "markdown",
   "metadata": {},
   "source": [
    "# 追写文件"
   ]
  },
  {
   "cell_type": "code",
   "execution_count": 3,
   "metadata": {},
   "outputs": [],
   "source": [
    "alist=[['rose','female','24'],['peter','male','23']]\n",
    "with open('test.txt','a+',encoding='utf-8') as file:\n",
    "     for idx in alist:\n",
    "        file.write((' ').join(idx))\n",
    "        file.write('\\n')\n",
    "\n"
   ]
  },
  {
   "cell_type": "code",
   "execution_count": 20,
   "metadata": {},
   "outputs": [],
   "source": [
    "with open('test.txt','r',encoding='gbk') as file:\n",
    "   a=file.read()#返回所有内容形成的字符串"
   ]
  },
  {
   "cell_type": "code",
   "execution_count": 22,
   "metadata": {},
   "outputs": [
    {
     "name": "stdout",
     "output_type": "stream",
     "text": [
      "name gender age\n",
      "Mark male 24\n",
      "adam male 22\n",
      "june male 22\n",
      "rose female 24\n",
      "peter male 23\n",
      "rose female 24\n",
      "peter male 23\n",
      "name gender age\n",
      "Mark male 24\n",
      "adam male 22\n",
      "june male 22\n",
      "\n"
     ]
    }
   ],
   "source": [
    "print(a)"
   ]
  },
  {
   "cell_type": "code",
   "execution_count": 23,
   "metadata": {},
   "outputs": [],
   "source": [
    "data = []\n",
    "for line in open(\"test.txt\",\"r\"): #设置文件对象并读取每一行文件\n",
    "     data.append(line)   "
   ]
  },
  {
   "cell_type": "code",
   "execution_count": 24,
   "metadata": {},
   "outputs": [
    {
     "data": {
      "text/plain": [
       "['name gender age\\n',\n",
       " 'Mark male 24\\n',\n",
       " 'adam male 22\\n',\n",
       " 'june male 22\\n',\n",
       " 'rose female 24\\n',\n",
       " 'peter male 23\\n',\n",
       " 'rose female 24\\n',\n",
       " 'peter male 23\\n',\n",
       " 'name gender age\\n',\n",
       " 'Mark male 24\\n',\n",
       " 'adam male 22\\n',\n",
       " 'june male 22\\n']"
      ]
     },
     "execution_count": 24,
     "metadata": {},
     "output_type": "execute_result"
    }
   ],
   "source": [
    "data"
   ]
  },
  {
   "cell_type": "code",
   "execution_count": 27,
   "metadata": {},
   "outputs": [
    {
     "ename": "UnicodeDecodeError",
     "evalue": "'gbk' codec can't decode byte 0x80 in position 3248: illegal multibyte sequence",
     "output_type": "error",
     "traceback": [
      "\u001b[1;31m---------------------------------------------------------------------------\u001b[0m",
      "\u001b[1;31mUnicodeDecodeError\u001b[0m                        Traceback (most recent call last)",
      "\u001b[1;32m<ipython-input-27-a8927c9c8b4a>\u001b[0m in \u001b[0;36m<module>\u001b[1;34m\u001b[0m\n\u001b[0;32m      1\u001b[0m \u001b[1;32mwith\u001b[0m \u001b[0mopen\u001b[0m\u001b[1;33m(\u001b[0m\u001b[1;34m'elk.txt'\u001b[0m\u001b[1;33m,\u001b[0m\u001b[1;34m'r'\u001b[0m\u001b[1;33m,\u001b[0m\u001b[0mencoding\u001b[0m\u001b[1;33m=\u001b[0m\u001b[1;34m'gbk'\u001b[0m\u001b[1;33m)\u001b[0m \u001b[1;32mas\u001b[0m \u001b[0mfile\u001b[0m\u001b[1;33m:\u001b[0m\u001b[1;33m\u001b[0m\u001b[1;33m\u001b[0m\u001b[0m\n\u001b[1;32m----> 2\u001b[1;33m    \u001b[0mb\u001b[0m\u001b[1;33m=\u001b[0m\u001b[0mfile\u001b[0m\u001b[1;33m.\u001b[0m\u001b[0mreadlines\u001b[0m\u001b[1;33m(\u001b[0m\u001b[1;33m)\u001b[0m\u001b[1;31m#按行分开返回一个列表\u001b[0m\u001b[1;33m\u001b[0m\u001b[1;33m\u001b[0m\u001b[0m\n\u001b[0m",
      "\u001b[1;31mUnicodeDecodeError\u001b[0m: 'gbk' codec can't decode byte 0x80 in position 3248: illegal multibyte sequence"
     ]
    }
   ],
   "source": [
    "with open('elk.txt','r',encoding='gbk') as file:\n",
    "   b=file.readlines()#按行分开返回一个列表"
   ]
  },
  {
   "cell_type": "code",
   "execution_count": 28,
   "metadata": {},
   "outputs": [
    {
     "data": {
      "text/plain": [
       "['2020-01-14 09:21:23,472 check_folder.py[line:252] INFO sleep 1 second for imgage writing\\n',\n",
       " '2020-01-14 09:21:23,582 camera_station.py[line:180] INFO send detect data to confirm server SUCCEED\\n',\n",
       " '2020-01-14 09:21:23,582 camera_station.py[line:323] INFO send the image to http://172.26.23.254:8001/vi_detect\\n',\n",
       " '2020-01-14 09:21:23,831 camera_station.py[line:326] INFO image sent\\n',\n",
       " '2020-01-14 09:21:24,486 check_folder.py[line:265] INFO get a new file 20200114092123201M6N6052393217.jpg\\n',\n",
       " \"2020-01-14 09:21:24,486 check_folder.py[line:116] INFO get new images ['20200114092123201M6N6052393217.jpg']\\n\",\n",
       " '2020-01-14 09:21:24,486 camera_station.py[line:513] INFO get a new image D:\\\\ccc\\\\20200114\\\\DayFlight\\\\201M6N6052393217.jpg\\n',\n",
       " '2020-01-14 09:21:25,235 confirm_server.py[line:73] INFO get a confirm task from client\\n',\n",
       " '2020-01-14 09:21:25,391 document.py[line:175] INFO add_vi_result for 201M6N6052393217.jpg\\n',\n",
       " '2020-01-14 09:21:48,823 check_folder.py[line:252] INFO sleep 0.1 second for imgage writing\\n',\n",
       " '2020-01-14 09:21:48,923 check_folder.py[line:265] INFO get a new file 20200114092148201M6N6052393216_A1H.jpg\\n',\n",
       " \"2020-01-14 09:21:48,923 check_folder.py[line:116] INFO get new images ['20200114092148201M6N6052393216_A1H.jpg']\\n\",\n",
       " '2020-01-14 09:21:48,923 camera_station.py[line:513] INFO get a new image D:\\\\ccc\\\\20200114\\\\DayFlight\\\\201M6N6052393216_A1H.jpg\\n',\n",
       " '2020-01-14 09:21:49,329 check_folder.py[line:252] INFO sleep 0.1 second for imgage writing\\n',\n",
       " '2020-01-14 09:21:49,438 check_folder.py[line:265] INFO get a new file 20200114092149201M6N6052393216_A2H.jpg\\n',\n",
       " \"2020-01-14 09:21:49,438 check_folder.py[line:116] INFO get new images ['20200114092149201M6N6052393216_A2H.jpg']\\n\",\n",
       " '2020-01-14 09:21:49,438 camera_station.py[line:513] INFO get a new image D:\\\\ccc\\\\20200114\\\\DayFlight\\\\201M6N6052393216_A2H.jpg\\n',\n",
       " '2020-01-14 09:21:49,641 check_folder.py[line:252] INFO sleep 0.1 second for imgage writing\\n',\n",
       " '2020-01-14 09:21:49,750 check_folder.py[line:265] INFO get a new file 20200114092149201M6N6052393216_A3H.jpg\\n',\n",
       " \"2020-01-14 09:21:49,750 check_folder.py[line:116] INFO get new images ['20200114092149201M6N6052393216_A3H.jpg']\\n\",\n",
       " '2020-01-14 09:21:49,750 camera_station.py[line:513] INFO get a new image D:\\\\ccc\\\\20200114\\\\DayFlight\\\\201M6N6052393216_A3H.jpg\\n',\n",
       " '2020-01-14 09:21:50,156 check_folder.py[line:252] INFO sleep 0.1 second for imgage writing\\n',\n",
       " '2020-01-14 09:21:50,265 check_folder.py[line:265] INFO get a new file 20200114092149201M6N6052393216_A4H.jpg\\n',\n",
       " \"2020-01-14 09:21:50,265 check_folder.py[line:116] INFO get new images ['20200114092149201M6N6052393216_A4H.jpg']\\n\",\n",
       " '2020-01-14 09:21:50,265 camera_station.py[line:513] INFO get a new image D:\\\\ccc\\\\20200114\\\\DayFlight\\\\201M6N6052393216_A4H.jpg\\n',\n",
       " '2020-01-14 09:21:50,671 concat_pics_TM.py[line:118] INFO total concat time is : 0.2652\\n',\n",
       " '2020-01-14 09:21:50,671 el_process.py[line:101] INFO get_cell_lines.\\n',\n",
       " '2020-01-14 09:21:50,780 camera_station.py[line:176] INFO send detect data to confirm server: http://172.26.22.47:8003/detect_data\\n',\n",
       " '2020-01-14 09:21:50,811 confirm_server.py[line:55] INFO get detect data\\n',\n",
       " '2020-01-14 09:21:50,811 document.py[line:153] INFO add_detect_data for 201M6N6052393216.jpg\\n',\n",
       " '2020-01-14 09:21:50,827 el_utils.py[line:11] INFO compose vi section items\\n',\n",
       " '2020-01-14 09:21:51,201 document.py[line:338] INFO 保存当前检测结果 for 201M6N6052393217.jpg']"
      ]
     },
     "execution_count": 28,
     "metadata": {},
     "output_type": "execute_result"
    }
   ],
   "source": [
    "b"
   ]
  },
  {
   "cell_type": "code",
   "execution_count": null,
   "metadata": {},
   "outputs": [],
   "source": []
  }
 ],
 "metadata": {
  "kernelspec": {
   "display_name": "Python 3",
   "language": "python",
   "name": "python3"
  },
  "language_info": {
   "codemirror_mode": {
    "name": "ipython",
    "version": 3
   },
   "file_extension": ".py",
   "mimetype": "text/x-python",
   "name": "python",
   "nbconvert_exporter": "python",
   "pygments_lexer": "ipython3",
   "version": "3.6.9"
  },
  "toc": {
   "base_numbering": 1,
   "nav_menu": {},
   "number_sections": true,
   "sideBar": true,
   "skip_h1_title": false,
   "title_cell": "Table of Contents",
   "title_sidebar": "Contents",
   "toc_cell": false,
   "toc_position": {},
   "toc_section_display": true,
   "toc_window_display": false
  },
  "varInspector": {
   "cols": {
    "lenName": 16,
    "lenType": 16,
    "lenVar": 40
   },
   "kernels_config": {
    "python": {
     "delete_cmd_postfix": "",
     "delete_cmd_prefix": "del ",
     "library": "var_list.py",
     "varRefreshCmd": "print(var_dic_list())"
    },
    "r": {
     "delete_cmd_postfix": ") ",
     "delete_cmd_prefix": "rm(",
     "library": "var_list.r",
     "varRefreshCmd": "cat(var_dic_list()) "
    }
   },
   "types_to_exclude": [
    "module",
    "function",
    "builtin_function_or_method",
    "instance",
    "_Feature"
   ],
   "window_display": false
  }
 },
 "nbformat": 4,
 "nbformat_minor": 2
}
