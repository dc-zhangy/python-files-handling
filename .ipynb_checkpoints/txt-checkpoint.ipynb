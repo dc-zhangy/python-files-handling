{
 "cells": [
  {
   "cell_type": "markdown",
   "metadata": {},
   "source": [
    "# 读写模式\n",
    "模式|可做操作|若文件不存在|是否覆盖\n",
    ":-:|:-:|:-:|:-:|\n",
    "r|\t只能读\t|报错\t|-\n",
    "r+|\t可读可写|\t报错\t|是\n",
    "w\t|只能写|\t创建\t|是\n",
    "w+　\t|可读可写|\t创建|是\n",
    "a　　|\t只能写|\t创建\t|否，追加写\n",
    "a+\t|可读可写|\t创建\t|否，追加写\n",
    "\n"
   ]
  },
  {
   "cell_type": "markdown",
   "metadata": {},
   "source": [
    "# 写入文件"
   ]
  },
  {
   "cell_type": "code",
   "execution_count": 8,
   "metadata": {},
   "outputs": [],
   "source": [
    "alist=[['name','gender','age'],['Mark','male','24'],['adam','male','22'],['june','male','22']]\n",
    "with open('test.txt','a+',encoding='utf-8') as file:\n",
    "    for idx in alist:\n",
    "       file.write((' ').join(idx))\n",
    "       file.write('\\n')"
   ]
  },
  {
   "cell_type": "markdown",
   "metadata": {},
   "source": [
    "# 读取文件"
   ]
  },
  {
   "cell_type": "code",
   "execution_count": 41,
   "metadata": {},
   "outputs": [
    {
     "name": "stdout",
     "output_type": "stream",
     "text": [
      "name gender age\n",
      "Mark male 24\n",
      "adam male 22\n",
      "june male 22\n",
      "\n",
      "['name gender age\\n', 'Mark male 24\\n', 'adam male 22\\n', 'june male 22\\n']\n"
     ]
    }
   ],
   "source": [
    "with open('test.txt','r',encoding='utf-8') as file:\n",
    "   a=file.read()#返回所有内容形成的字符串\n",
    "\n",
    "with open('test.txt','r',encoding='utf-8') as file:\n",
    "   b=file.readlines()#按行分开返回一个列表\n",
    "print(a)\n",
    "print(b)"
   ]
  },
  {
   "cell_type": "markdown",
   "metadata": {},
   "source": [
    "# 追写文件"
   ]
  },
  {
   "cell_type": "code",
   "execution_count": 45,
   "metadata": {},
   "outputs": [],
   "source": [
    "alist=[['rose','female','24'],['peter','male','23']]\n",
    "with open('test.txt','a+',encoding='utf-8') as file:\n",
    "     for idx in alist:\n",
    "        file.write((' ').join(idx))\n",
    "        file.write('\\n')\n",
    "\n"
   ]
  },
  {
   "cell_type": "code",
   "execution_count": null,
   "metadata": {},
   "outputs": [],
   "source": []
  }
 ],
 "metadata": {
  "kernelspec": {
   "display_name": "Python 3",
   "language": "python",
   "name": "python3"
  },
  "language_info": {
   "codemirror_mode": {
    "name": "ipython",
    "version": 3
   },
   "file_extension": ".py",
   "mimetype": "text/x-python",
   "name": "python",
   "nbconvert_exporter": "python",
   "pygments_lexer": "ipython3",
   "version": "3.6.9"
  },
  "toc": {
   "base_numbering": 1,
   "nav_menu": {},
   "number_sections": true,
   "sideBar": true,
   "skip_h1_title": false,
   "title_cell": "Table of Contents",
   "title_sidebar": "Contents",
   "toc_cell": false,
   "toc_position": {},
   "toc_section_display": true,
   "toc_window_display": false
  },
  "varInspector": {
   "cols": {
    "lenName": 16,
    "lenType": 16,
    "lenVar": 40
   },
   "kernels_config": {
    "python": {
     "delete_cmd_postfix": "",
     "delete_cmd_prefix": "del ",
     "library": "var_list.py",
     "varRefreshCmd": "print(var_dic_list())"
    },
    "r": {
     "delete_cmd_postfix": ") ",
     "delete_cmd_prefix": "rm(",
     "library": "var_list.r",
     "varRefreshCmd": "cat(var_dic_list()) "
    }
   },
   "types_to_exclude": [
    "module",
    "function",
    "builtin_function_or_method",
    "instance",
    "_Feature"
   ],
   "window_display": false
  }
 },
 "nbformat": 4,
 "nbformat_minor": 2
}
